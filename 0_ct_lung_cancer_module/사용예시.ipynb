{
 "cells": [
  {
   "cell_type": "code",
   "execution_count": 2,
   "id": "eb44aeef",
   "metadata": {},
   "outputs": [
    {
     "name": "stdout",
     "output_type": "stream",
     "text": [
      "Target Directory: ./data\n",
      "Output Directory: ./output\n",
      "GPU Number: 0\n",
      "Dtype: torch.float16\n",
      "Device: cuda:0\n",
      "Weight Path: ./model_weights/model_multi_best.ckpt\n",
      "Mask Threshold: 0.5\n",
      "100%|█████████████████████████████████████████████| 2/2 [00:46<00:00, 23.30s/it]\n"
     ]
    }
   ],
   "source": [
    "!python inference.py --target_dir \"./data\" --output_dir \"./output\" --ext \"nii\" --gpu_num 0 --mask_threshold 0.5"
   ]
  },
  {
   "cell_type": "code",
   "execution_count": null,
   "id": "0dd80251",
   "metadata": {},
   "outputs": [],
   "source": []
  }
 ],
 "metadata": {
  "kernelspec": {
   "display_name": "Python 3 (ipykernel)",
   "language": "python",
   "name": "python3"
  },
  "language_info": {
   "codemirror_mode": {
    "name": "ipython",
    "version": 3
   },
   "file_extension": ".py",
   "mimetype": "text/x-python",
   "name": "python",
   "nbconvert_exporter": "python",
   "pygments_lexer": "ipython3",
   "version": "3.10.13"
  }
 },
 "nbformat": 4,
 "nbformat_minor": 5
}
